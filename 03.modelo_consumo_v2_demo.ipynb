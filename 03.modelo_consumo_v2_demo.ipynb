{
 "cells": [
  {
   "cell_type": "code",
   "execution_count": 1,
   "metadata": {},
   "outputs": [
    {
     "name": "stderr",
     "output_type": "stream",
     "text": [
      "2022-06-13 23:05:41.552509: W tensorflow/stream_executor/platform/default/dso_loader.cc:64] Could not load dynamic library 'libcudart.so.11.0'; dlerror: libcudart.so.11.0: cannot open shared object file: No such file or directory\n",
      "2022-06-13 23:05:41.552531: I tensorflow/stream_executor/cuda/cudart_stub.cc:29] Ignore above cudart dlerror if you do not have a GPU set up on your machine.\n"
     ]
    }
   ],
   "source": [
    "import pandas as pd\n",
    "import matplotlib.pyplot as plt\n",
    "import numpy as np\n",
    "import re\n",
    "from math import sqrt\n",
    "from numpy import split\n",
    "from numpy import array\n",
    "from sklearn.preprocessing import LabelEncoder\n",
    "from sklearn.preprocessing import MinMaxScaler\n",
    "from sklearn.preprocessing import StandardScaler\n",
    "from sklearn.preprocessing import RobustScaler\n",
    "from sklearn.model_selection import train_test_split\n",
    "from sklearn.metrics import mean_squared_error\n",
    "from sklearn.metrics import r2_score\n",
    "from tensorflow import keras\n",
    "from keras.models import Sequential\n",
    "from keras.layers import Dense\n",
    "from keras.layers import LSTM\n",
    "from keras.layers import Dropout\n",
    "from keras.layers import Flatten\n",
    "from keras.layers import RepeatVector\n",
    "from keras.layers import TimeDistributed\n",
    "from keras_tuner import RandomSearch\n",
    "from keras_tuner import Hyperband\n",
    "from keras_tuner import BayesianOptimization\n",
    "from keras_tuner.engine.hyperparameters import HyperParameters\n",
    "from sklearn.feature_selection import SelectKBest\n",
    "from sklearn.feature_selection import chi2, f_regression"
   ]
  },
  {
   "cell_type": "code",
   "execution_count": 2,
   "metadata": {},
   "outputs": [],
   "source": [
    "import random\n",
    "random.seed(123)"
   ]
  },
  {
   "cell_type": "code",
   "execution_count": 3,
   "metadata": {},
   "outputs": [],
   "source": [
    "res_time = '60T'\n",
    "edificio = 'A'"
   ]
  },
  {
   "cell_type": "code",
   "execution_count": 23,
   "metadata": {
    "scrolled": true
   },
   "outputs": [
    {
     "name": "stdout",
     "output_type": "stream",
     "text": [
      "(8423, 23)\n"
     ]
    },
    {
     "data": {
      "text/html": [
       "<div>\n",
       "<style scoped>\n",
       "    .dataframe tbody tr th:only-of-type {\n",
       "        vertical-align: middle;\n",
       "    }\n",
       "\n",
       "    .dataframe tbody tr th {\n",
       "        vertical-align: top;\n",
       "    }\n",
       "\n",
       "    .dataframe thead th {\n",
       "        text-align: right;\n",
       "    }\n",
       "</style>\n",
       "<table border=\"1\" class=\"dataframe\">\n",
       "  <thead>\n",
       "    <tr style=\"text-align: right;\">\n",
       "      <th></th>\n",
       "      <th>dif_cons</th>\n",
       "      <th>V2</th>\n",
       "      <th>V4</th>\n",
       "      <th>V12</th>\n",
       "      <th>V26</th>\n",
       "      <th>V5_0</th>\n",
       "      <th>V5_1</th>\n",
       "      <th>V5_2</th>\n",
       "      <th>Hora_1</th>\n",
       "      <th>Hora_2</th>\n",
       "      <th>...</th>\n",
       "      <th>Season_3</th>\n",
       "      <th>Season_4</th>\n",
       "      <th>tmed</th>\n",
       "      <th>hrmed</th>\n",
       "      <th>radmed</th>\n",
       "      <th>vvmed</th>\n",
       "      <th>dvmed</th>\n",
       "      <th>prec</th>\n",
       "      <th>dewpt</th>\n",
       "      <th>dpv</th>\n",
       "    </tr>\n",
       "    <tr>\n",
       "      <th>Fecha</th>\n",
       "      <th></th>\n",
       "      <th></th>\n",
       "      <th></th>\n",
       "      <th></th>\n",
       "      <th></th>\n",
       "      <th></th>\n",
       "      <th></th>\n",
       "      <th></th>\n",
       "      <th></th>\n",
       "      <th></th>\n",
       "      <th></th>\n",
       "      <th></th>\n",
       "      <th></th>\n",
       "      <th></th>\n",
       "      <th></th>\n",
       "      <th></th>\n",
       "      <th></th>\n",
       "      <th></th>\n",
       "      <th></th>\n",
       "      <th></th>\n",
       "      <th></th>\n",
       "    </tr>\n",
       "  </thead>\n",
       "  <tbody>\n",
       "    <tr>\n",
       "      <th>2021-01-01 00:00:00+00:00</th>\n",
       "      <td>1.34</td>\n",
       "      <td>22.95</td>\n",
       "      <td>1.0</td>\n",
       "      <td>23.41</td>\n",
       "      <td>0.0</td>\n",
       "      <td>0</td>\n",
       "      <td>1</td>\n",
       "      <td>0</td>\n",
       "      <td>0</td>\n",
       "      <td>0</td>\n",
       "      <td>...</td>\n",
       "      <td>0</td>\n",
       "      <td>0</td>\n",
       "      <td>3.3</td>\n",
       "      <td>64.4</td>\n",
       "      <td>0.0</td>\n",
       "      <td>0.3</td>\n",
       "      <td>208.0</td>\n",
       "      <td>0.0</td>\n",
       "      <td>-2.7</td>\n",
       "      <td>0.3</td>\n",
       "    </tr>\n",
       "    <tr>\n",
       "      <th>2021-01-01 01:00:00+00:00</th>\n",
       "      <td>1.31</td>\n",
       "      <td>22.91</td>\n",
       "      <td>1.0</td>\n",
       "      <td>23.41</td>\n",
       "      <td>0.0</td>\n",
       "      <td>0</td>\n",
       "      <td>1</td>\n",
       "      <td>0</td>\n",
       "      <td>0</td>\n",
       "      <td>0</td>\n",
       "      <td>...</td>\n",
       "      <td>0</td>\n",
       "      <td>0</td>\n",
       "      <td>2.8</td>\n",
       "      <td>67.3</td>\n",
       "      <td>0.0</td>\n",
       "      <td>0.4</td>\n",
       "      <td>160.1</td>\n",
       "      <td>0.0</td>\n",
       "      <td>-2.7</td>\n",
       "      <td>0.2</td>\n",
       "    </tr>\n",
       "    <tr>\n",
       "      <th>2021-01-01 02:00:00+00:00</th>\n",
       "      <td>1.30</td>\n",
       "      <td>22.86</td>\n",
       "      <td>1.0</td>\n",
       "      <td>23.41</td>\n",
       "      <td>0.0</td>\n",
       "      <td>0</td>\n",
       "      <td>1</td>\n",
       "      <td>0</td>\n",
       "      <td>0</td>\n",
       "      <td>0</td>\n",
       "      <td>...</td>\n",
       "      <td>0</td>\n",
       "      <td>0</td>\n",
       "      <td>3.2</td>\n",
       "      <td>67.0</td>\n",
       "      <td>0.0</td>\n",
       "      <td>0.3</td>\n",
       "      <td>196.4</td>\n",
       "      <td>0.0</td>\n",
       "      <td>-2.4</td>\n",
       "      <td>0.3</td>\n",
       "    </tr>\n",
       "  </tbody>\n",
       "</table>\n",
       "<p>3 rows × 23 columns</p>\n",
       "</div>"
      ],
      "text/plain": [
       "                           dif_cons     V2   V4    V12  V26  V5_0  V5_1  V5_2  \\\n",
       "Fecha                                                                           \n",
       "2021-01-01 00:00:00+00:00      1.34  22.95  1.0  23.41  0.0     0     1     0   \n",
       "2021-01-01 01:00:00+00:00      1.31  22.91  1.0  23.41  0.0     0     1     0   \n",
       "2021-01-01 02:00:00+00:00      1.30  22.86  1.0  23.41  0.0     0     1     0   \n",
       "\n",
       "                           Hora_1  Hora_2  ...  Season_3  Season_4  tmed  \\\n",
       "Fecha                                      ...                             \n",
       "2021-01-01 00:00:00+00:00       0       0  ...         0         0   3.3   \n",
       "2021-01-01 01:00:00+00:00       0       0  ...         0         0   2.8   \n",
       "2021-01-01 02:00:00+00:00       0       0  ...         0         0   3.2   \n",
       "\n",
       "                           hrmed  radmed  vvmed  dvmed  prec  dewpt  dpv  \n",
       "Fecha                                                                     \n",
       "2021-01-01 00:00:00+00:00   64.4     0.0    0.3  208.0   0.0   -2.7  0.3  \n",
       "2021-01-01 01:00:00+00:00   67.3     0.0    0.4  160.1   0.0   -2.7  0.2  \n",
       "2021-01-01 02:00:00+00:00   67.0     0.0    0.3  196.4   0.0   -2.4  0.3  \n",
       "\n",
       "[3 rows x 23 columns]"
      ]
     },
     "execution_count": 23,
     "metadata": {},
     "output_type": "execute_result"
    }
   ],
   "source": [
    "data = pd.read_csv('data-model-consumo' + edificio + '-' + res_time + '.csv', sep=\";\", index_col=0)\n",
    "#data = data.drop(columns=['V5_0', 'Hora_3'])\n",
    "print(data.shape)\n",
    "data.head(3)"
   ]
  },
  {
   "cell_type": "markdown",
   "metadata": {},
   "source": [
    "## MLP EDIFICIO A SIN STANDARIZAR"
   ]
  },
  {
   "cell_type": "code",
   "execution_count": 49,
   "metadata": {},
   "outputs": [
    {
     "name": "stdout",
     "output_type": "stream",
     "text": [
      "(8423, 23)\n",
      "MLPRegressor()\n",
      "Test RMSE: 1.458\n",
      "Test CVRMSE: 30.062\n",
      "Test R squared: 0.761\n"
     ]
    }
   ],
   "source": [
    "from sklearn.neural_network import MLPRegressor\n",
    "np.random.seed(1234)\n",
    "res_time = '60T'\n",
    "edificio = 'A'\n",
    "data = pd.read_csv('data-model-consumo' + edificio + '-' + res_time + '.csv', sep=\";\", index_col=0)\n",
    "#data = data.drop(columns=['V5_0', 'Hora_3'])\n",
    "print(data.shape)\n",
    "data.head(3)\n",
    "#data = data[['dif_cons', 'V4', 'Hora_1', 'Hora_2', 'Hora_3']]\n",
    "df = data\n",
    "df\n",
    "X = df.drop(['dif_cons'],axis=1)\n",
    "y = df['dif_cons']\n",
    "X_train, X_test, y_train, y_test = train_test_split(X, y, test_size=0.30)\n",
    "model = model = MLPRegressor()\n",
    "model.fit(X_train, y_train)\n",
    "print(model)\n",
    "test_y  = y_test\n",
    "prediction = model.predict(X_test)\n",
    "rmse = np.sqrt(mean_squared_error(test_y,prediction))\n",
    "cvrmse = rmse/np.mean(test_y)*100\n",
    "r2 = r2_score(test_y, prediction)\n",
    "print('Test RMSE: %.3f' % rmse)\n",
    "print('Test CVRMSE: %.3f' % cvrmse)\n",
    "print('Test R squared: %.3f' % r2)"
   ]
  },
  {
   "cell_type": "markdown",
   "metadata": {},
   "source": [
    "## MLP EDIFICIO A STANDARIZADO "
   ]
  },
  {
   "cell_type": "code",
   "execution_count": 79,
   "metadata": {},
   "outputs": [
    {
     "name": "stdout",
     "output_type": "stream",
     "text": [
      "(8423, 23)\n",
      "(8423, 23)\n"
     ]
    },
    {
     "name": "stderr",
     "output_type": "stream",
     "text": [
      "/home/aurorax/.local/lib/python3.8/site-packages/sklearn/neural_network/_multilayer_perceptron.py:1599: DataConversionWarning: A column-vector y was passed when a 1d array was expected. Please change the shape of y to (n_samples, ), for example using ravel().\n",
      "  y = column_or_1d(y, warn=True)\n"
     ]
    },
    {
     "name": "stdout",
     "output_type": "stream",
     "text": [
      "MLPRegressor()\n",
      "Test RMSE: 0.980\n",
      "Test CVRMSE: 20.221\n",
      "Test R squared: 0.892\n"
     ]
    },
    {
     "name": "stderr",
     "output_type": "stream",
     "text": [
      "/home/aurorax/.local/lib/python3.8/site-packages/sklearn/neural_network/_multilayer_perceptron.py:692: ConvergenceWarning: Stochastic Optimizer: Maximum iterations (200) reached and the optimization hasn't converged yet.\n",
      "  warnings.warn(\n"
     ]
    }
   ],
   "source": [
    "np.random.seed(1234)\n",
    "res_time = '60T'\n",
    "edificio = 'A'\n",
    "data = pd.read_csv('data-model-consumo' + edificio + '-' + res_time + '.csv', sep=\";\", index_col=0)\n",
    "#data = data.drop(columns=['V5_0', 'Hora_3'])\n",
    "print(data.shape)\n",
    "data.head(3)\n",
    "np.random.seed(1234)\n",
    "res_time = '60T'\n",
    "edificio = 'A'\n",
    "data = pd.read_csv('data-model-consumo' + edificio + '-' + res_time + '.csv', sep=\";\", index_col=0)\n",
    "#data = data.drop(columns=['V5_0', 'Hora_3'])\n",
    "print(data.shape)\n",
    "data.head(3)\n",
    "#data = data[['dif_cons', 'V4', 'Hora_1', 'Hora_2', 'Hora_3']]\n",
    "df = data\n",
    "df\n",
    "X = df.drop(['dif_cons'],axis=1)\n",
    "y = df['dif_cons']\n",
    "X_train, X_test, y_train, y_test = train_test_split(X, y, test_size=0.30)\n",
    "\n",
    "scaler_x = StandardScaler()\n",
    "X_train = scaler_x.fit_transform(X_train)\n",
    "X_test = scaler_x.transform(X_test)\n",
    "scaler_y = StandardScaler()\n",
    "y_train = scaler_y.fit_transform(y_train.values.reshape(-1, 1))\n",
    "y_test = scaler_y.fit_transform(y_test.values.reshape(-1, 1))\n",
    "\n",
    "model = model = MLPRegressor()\n",
    "model.fit(X_train, y_train)\n",
    "print(model)\n",
    "test_y  = y_test\n",
    "prediction = model.predict(X_test)\n",
    "prediction = scaler_y.inverse_transform(prediction.reshape(-1, 1))\n",
    "test_y = scaler_y.inverse_transform(test_y.reshape(-1, 1))\n",
    "rmse = np.sqrt(mean_squared_error(test_y,prediction))\n",
    "cvrmse = rmse/np.mean(test_y)*100\n",
    "r2 = r2_score(test_y, prediction)\n",
    "print('Test RMSE: %.3f' % rmse)\n",
    "print('Test CVRMSE: %.3f' % cvrmse)\n",
    "print('Test R squared: %.3f' % r2)"
   ]
  },
  {
   "cell_type": "markdown",
   "metadata": {},
   "source": [
    "## MLP EDIFICIO A STANDARIZADO y lag 1"
   ]
  },
  {
   "cell_type": "code",
   "execution_count": 88,
   "metadata": {},
   "outputs": [
    {
     "name": "stdout",
     "output_type": "stream",
     "text": [
      "(8423, 23)\n"
     ]
    },
    {
     "name": "stderr",
     "output_type": "stream",
     "text": [
      "/home/aurorax/.local/lib/python3.8/site-packages/sklearn/neural_network/_multilayer_perceptron.py:1599: DataConversionWarning: A column-vector y was passed when a 1d array was expected. Please change the shape of y to (n_samples, ), for example using ravel().\n",
      "  y = column_or_1d(y, warn=True)\n"
     ]
    },
    {
     "name": "stdout",
     "output_type": "stream",
     "text": [
      "MLPRegressor()\n",
      "Test RMSE: 0.844\n",
      "Test CVRMSE: 17.372\n",
      "Test R squared: 0.919\n"
     ]
    }
   ],
   "source": [
    "np.random.seed(1234)\n",
    "res_time = '60T'\n",
    "edificio = 'A'\n",
    "data = pd.read_csv('data-model-consumo' + edificio + '-' + res_time + '.csv', sep=\";\", index_col=0)\n",
    "#data = data.drop(columns=['V5_0', 'Hora_3'])\n",
    "print(data.shape)\n",
    "data['lagcons'] = data['dif_cons'].shift(1)\n",
    "data.head(3)\n",
    "data = data.iloc[1: , :] # delete first row\n",
    "data.head(3)\n",
    "df = data\n",
    "df\n",
    "X = df.drop(['dif_cons'],axis=1)\n",
    "y = df['dif_cons']\n",
    "X_train, X_test, y_train, y_test = train_test_split(X, y, test_size=0.30)\n",
    "\n",
    "scaler_x = StandardScaler()\n",
    "X_train = scaler_x.fit_transform(X_train)\n",
    "X_test = scaler_x.transform(X_test)\n",
    "scaler_y = StandardScaler()\n",
    "y_train = scaler_y.fit_transform(y_train.values.reshape(-1, 1))\n",
    "y_test = scaler_y.fit_transform(y_test.values.reshape(-1, 1))\n",
    "\n",
    "model = model = MLPRegressor()\n",
    "model.fit(X_train, y_train)\n",
    "print(model)\n",
    "test_y  = y_test\n",
    "prediction = model.predict(X_test)\n",
    "prediction = scaler_y.inverse_transform(prediction.reshape(-1, 1))\n",
    "test_y = scaler_y.inverse_transform(test_y.reshape(-1, 1))\n",
    "rmse = np.sqrt(mean_squared_error(test_y,prediction))\n",
    "cvrmse = rmse/np.mean(test_y)*100\n",
    "r2 = r2_score(test_y, prediction)\n",
    "print('Test RMSE: %.3f' % rmse)\n",
    "print('Test CVRMSE: %.3f' % cvrmse)\n",
    "print('Test R squared: %.3f' % r2)"
   ]
  },
  {
   "cell_type": "markdown",
   "metadata": {},
   "source": [
    "## MLP EDIFICIO B SIN STANDARIZAR"
   ]
  },
  {
   "cell_type": "code",
   "execution_count": 47,
   "metadata": {},
   "outputs": [
    {
     "name": "stdout",
     "output_type": "stream",
     "text": [
      "(8425, 23)\n",
      "MLPRegressor()\n",
      "Test RMSE: 0.824\n",
      "Test CVRMSE: 30.859\n",
      "Test R squared: 0.794\n"
     ]
    }
   ],
   "source": [
    "from sklearn.neural_network import MLPRegressor\n",
    "np.random.seed(1234)\n",
    "res_time = '60T'\n",
    "edificio = 'B'\n",
    "data = pd.read_csv('data-model-consumo' + edificio + '-' + res_time + '.csv', sep=\";\", index_col=0)\n",
    "#data = data.drop(columns=['V5_0', 'Hora_3'])\n",
    "print(data.shape)\n",
    "data.head(3)\n",
    "#data = data[['dif_cons', 'V4', 'Hora_1', 'Hora_2', 'Hora_3']]\n",
    "df = data\n",
    "df\n",
    "X = df.drop(['dif_cons'],axis=1)\n",
    "y = df['dif_cons']\n",
    "X_train, X_test, y_train, y_test = train_test_split(X, y, test_size=0.30)\n",
    "model = model = MLPRegressor()\n",
    "model.fit(X_train, y_train)\n",
    "print(model)\n",
    "test_y  = y_test\n",
    "prediction = model.predict(X_test)\n",
    "rmse = np.sqrt(mean_squared_error(test_y,prediction))\n",
    "cvrmse = rmse/np.mean(test_y)*100\n",
    "r2 = r2_score(test_y, prediction)\n",
    "print('Test RMSE: %.3f' % rmse)\n",
    "print('Test CVRMSE: %.3f' % cvrmse)\n",
    "print('Test R squared: %.3f' % r2)"
   ]
  },
  {
   "cell_type": "markdown",
   "metadata": {},
   "source": [
    "## MLP EDIFICIO B STANDARIZADO"
   ]
  },
  {
   "cell_type": "code",
   "execution_count": 65,
   "metadata": {},
   "outputs": [
    {
     "name": "stdout",
     "output_type": "stream",
     "text": [
      "(8425, 23)\n"
     ]
    },
    {
     "name": "stderr",
     "output_type": "stream",
     "text": [
      "/home/aurorax/.local/lib/python3.8/site-packages/sklearn/neural_network/_multilayer_perceptron.py:1599: DataConversionWarning: A column-vector y was passed when a 1d array was expected. Please change the shape of y to (n_samples, ), for example using ravel().\n",
      "  y = column_or_1d(y, warn=True)\n"
     ]
    },
    {
     "name": "stdout",
     "output_type": "stream",
     "text": [
      "MLPRegressor()\n",
      "Test RMSE: 0.601\n",
      "Test CVRMSE: 22.506\n",
      "Test R squared: 0.891\n"
     ]
    },
    {
     "name": "stderr",
     "output_type": "stream",
     "text": [
      "/home/aurorax/.local/lib/python3.8/site-packages/sklearn/neural_network/_multilayer_perceptron.py:692: ConvergenceWarning: Stochastic Optimizer: Maximum iterations (200) reached and the optimization hasn't converged yet.\n",
      "  warnings.warn(\n"
     ]
    }
   ],
   "source": [
    "np.random.seed(1234)\n",
    "res_time = '60T'\n",
    "edificio = 'B'\n",
    "data = pd.read_csv('data-model-consumo' + edificio + '-' + res_time + '.csv', sep=\";\", index_col=0)\n",
    "#data = data.drop(columns=['V5_0', 'Hora_3'])\n",
    "print(data.shape)\n",
    "data.head(3)\n",
    "#data = data[['dif_cons', 'V4', 'Hora_1', 'Hora_2', 'Hora_3']]\n",
    "df = data\n",
    "df\n",
    "X = df.drop(['dif_cons'],axis=1)\n",
    "y = df['dif_cons']\n",
    "X_train, X_test, y_train, y_test = train_test_split(X, y, test_size=0.30)\n",
    "\n",
    "scaler_x = StandardScaler()\n",
    "X_train = scaler_x.fit_transform(X_train)\n",
    "X_test = scaler_x.transform(X_test)\n",
    "scaler_y = StandardScaler()\n",
    "y_train = scaler_y.fit_transform(y_train.values.reshape(-1, 1))\n",
    "y_test = scaler_y.fit_transform(y_test.values.reshape(-1, 1))\n",
    "\n",
    "model = model = MLPRegressor()\n",
    "model.fit(X_train, y_train)\n",
    "print(model)\n",
    "test_y  = y_test\n",
    "prediction = model.predict(X_test)\n",
    "prediction = scaler_y.inverse_transform(prediction.reshape(-1, 1))\n",
    "test_y = scaler_y.inverse_transform(test_y.reshape(-1, 1))\n",
    "rmse = np.sqrt(mean_squared_error(test_y,prediction))\n",
    "cvrmse = rmse/np.mean(test_y)*100\n",
    "r2 = r2_score(test_y, prediction)\n",
    "print('Test RMSE: %.3f' % rmse)\n",
    "print('Test CVRMSE: %.3f' % cvrmse)\n",
    "print('Test R squared: %.3f' % r2)"
   ]
  },
  {
   "cell_type": "markdown",
   "metadata": {},
   "source": [
    "## MLP EDIFICIO B STANDARIZADO y lag 1"
   ]
  },
  {
   "cell_type": "code",
   "execution_count": 89,
   "metadata": {},
   "outputs": [
    {
     "name": "stdout",
     "output_type": "stream",
     "text": [
      "(8425, 23)\n"
     ]
    },
    {
     "name": "stderr",
     "output_type": "stream",
     "text": [
      "/home/aurorax/.local/lib/python3.8/site-packages/sklearn/neural_network/_multilayer_perceptron.py:1599: DataConversionWarning: A column-vector y was passed when a 1d array was expected. Please change the shape of y to (n_samples, ), for example using ravel().\n",
      "  y = column_or_1d(y, warn=True)\n"
     ]
    },
    {
     "name": "stdout",
     "output_type": "stream",
     "text": [
      "MLPRegressor()\n",
      "Test RMSE: 0.522\n",
      "Test CVRMSE: 19.655\n",
      "Test R squared: 0.915\n"
     ]
    }
   ],
   "source": [
    "np.random.seed(1234)\n",
    "res_time = '60T'\n",
    "edificio = 'B'\n",
    "data = pd.read_csv('data-model-consumo' + edificio + '-' + res_time + '.csv', sep=\";\", index_col=0)\n",
    "#data = data.drop(columns=['V5_0', 'Hora_3'])\n",
    "print(data.shape)\n",
    "data['lagcons'] = data['dif_cons'].shift(1)\n",
    "data.head(3)\n",
    "data = data.iloc[1: , :] # delete first row\n",
    "data.head(3)\n",
    "df = data\n",
    "df\n",
    "X = df.drop(['dif_cons'],axis=1)\n",
    "y = df['dif_cons']\n",
    "X_train, X_test, y_train, y_test = train_test_split(X, y, test_size=0.30)\n",
    "\n",
    "scaler_x = StandardScaler()\n",
    "X_train = scaler_x.fit_transform(X_train)\n",
    "X_test = scaler_x.transform(X_test)\n",
    "scaler_y = StandardScaler()\n",
    "y_train = scaler_y.fit_transform(y_train.values.reshape(-1, 1))\n",
    "y_test = scaler_y.fit_transform(y_test.values.reshape(-1, 1))\n",
    "\n",
    "model = model = MLPRegressor()\n",
    "model.fit(X_train, y_train)\n",
    "print(model)\n",
    "test_y  = y_test\n",
    "prediction = model.predict(X_test)\n",
    "prediction = scaler_y.inverse_transform(prediction.reshape(-1, 1))\n",
    "test_y = scaler_y.inverse_transform(test_y.reshape(-1, 1))\n",
    "rmse = np.sqrt(mean_squared_error(test_y,prediction))\n",
    "cvrmse = rmse/np.mean(test_y)*100\n",
    "r2 = r2_score(test_y, prediction)\n",
    "print('Test RMSE: %.3f' % rmse)\n",
    "print('Test CVRMSE: %.3f' % cvrmse)\n",
    "print('Test R squared: %.3f' % r2)"
   ]
  },
  {
   "cell_type": "markdown",
   "metadata": {},
   "source": [
    "## MLP EDIFICIO C SIN STANDARIZAR"
   ]
  },
  {
   "cell_type": "code",
   "execution_count": 50,
   "metadata": {},
   "outputs": [
    {
     "name": "stdout",
     "output_type": "stream",
     "text": [
      "(8122, 19)\n",
      "MLPRegressor()\n",
      "Test RMSE: 3.492\n",
      "Test CVRMSE: 88.444\n",
      "Test R squared: 0.443\n"
     ]
    }
   ],
   "source": [
    "from sklearn.neural_network import MLPRegressor\n",
    "res_time = '60T'\n",
    "edificio = 'C'\n",
    "data = pd.read_csv('data-model-consumo' + edificio + '-' + res_time + '.csv', sep=\";\", index_col=0)\n",
    "#data = data.drop(columns=['V5_0', 'Hora_3'])\n",
    "print(data.shape)\n",
    "data.head(3)\n",
    "#data = data[['dif_cons', 'V4', 'Hora_1', 'Hora_2', 'Hora_3']]\n",
    "df = data\n",
    "df\n",
    "X = df.drop(['dif_cons'],axis=1)\n",
    "y = df['dif_cons']\n",
    "X_train, X_test, y_train, y_test = train_test_split(X, y, test_size=0.30)\n",
    "model = model = MLPRegressor()\n",
    "model.fit(X_train, y_train)\n",
    "print(model)\n",
    "test_y  = y_test\n",
    "prediction = model.predict(X_test)\n",
    "rmse = np.sqrt(mean_squared_error(test_y,prediction))\n",
    "cvrmse = rmse/np.mean(test_y)*100\n",
    "r2 = r2_score(test_y, prediction)\n",
    "print('Test RMSE: %.3f' % rmse)\n",
    "print('Test CVRMSE: %.3f' % cvrmse)\n",
    "print('Test R squared: %.3f' % r2)"
   ]
  },
  {
   "cell_type": "markdown",
   "metadata": {},
   "source": [
    "## MLP EDIFICIO C STANDARIZADO"
   ]
  },
  {
   "cell_type": "code",
   "execution_count": 67,
   "metadata": {},
   "outputs": [
    {
     "name": "stdout",
     "output_type": "stream",
     "text": [
      "(8122, 19)\n"
     ]
    },
    {
     "name": "stderr",
     "output_type": "stream",
     "text": [
      "/home/aurorax/.local/lib/python3.8/site-packages/sklearn/neural_network/_multilayer_perceptron.py:1599: DataConversionWarning: A column-vector y was passed when a 1d array was expected. Please change the shape of y to (n_samples, ), for example using ravel().\n",
      "  y = column_or_1d(y, warn=True)\n"
     ]
    },
    {
     "name": "stdout",
     "output_type": "stream",
     "text": [
      "MLPRegressor()\n",
      "Test RMSE: 3.029\n",
      "Test CVRMSE: 76.071\n",
      "Test R squared: 0.598\n"
     ]
    },
    {
     "name": "stderr",
     "output_type": "stream",
     "text": [
      "/home/aurorax/.local/lib/python3.8/site-packages/sklearn/neural_network/_multilayer_perceptron.py:692: ConvergenceWarning: Stochastic Optimizer: Maximum iterations (200) reached and the optimization hasn't converged yet.\n",
      "  warnings.warn(\n"
     ]
    }
   ],
   "source": [
    "np.random.seed(1234)\n",
    "res_time = '60T'\n",
    "edificio = 'C'\n",
    "data = pd.read_csv('data-model-consumo' + edificio + '-' + res_time + '.csv', sep=\";\", index_col=0)\n",
    "#data = data.drop(columns=['V5_0', 'Hora_3'])\n",
    "print(data.shape)\n",
    "data.head(3)\n",
    "#data = data[['dif_cons', 'V4', 'Hora_1', 'Hora_2', 'Hora_3']]\n",
    "df = data\n",
    "df\n",
    "X = df.drop(['dif_cons'],axis=1)\n",
    "y = df['dif_cons']\n",
    "X_train, X_test, y_train, y_test = train_test_split(X, y, test_size=0.30)\n",
    "\n",
    "scaler_x = StandardScaler()\n",
    "X_train = scaler_x.fit_transform(X_train)\n",
    "X_test = scaler_x.transform(X_test)\n",
    "scaler_y = StandardScaler()\n",
    "y_train = scaler_y.fit_transform(y_train.values.reshape(-1, 1))\n",
    "y_test = scaler_y.fit_transform(y_test.values.reshape(-1, 1))\n",
    "\n",
    "model = model = MLPRegressor()\n",
    "model.fit(X_train, y_train)\n",
    "print(model)\n",
    "test_y  = y_test\n",
    "prediction = model.predict(X_test)\n",
    "prediction = scaler_y.inverse_transform(prediction.reshape(-1, 1))\n",
    "test_y = scaler_y.inverse_transform(test_y.reshape(-1, 1))\n",
    "rmse = np.sqrt(mean_squared_error(test_y,prediction))\n",
    "cvrmse = rmse/np.mean(test_y)*100\n",
    "r2 = r2_score(test_y, prediction)\n",
    "print('Test RMSE: %.3f' % rmse)\n",
    "print('Test CVRMSE: %.3f' % cvrmse)\n",
    "print('Test R squared: %.3f' % r2)"
   ]
  },
  {
   "cell_type": "markdown",
   "metadata": {},
   "source": [
    "## MLP EDIFICIO C STANDARIZADO y lag 1"
   ]
  },
  {
   "cell_type": "code",
   "execution_count": 90,
   "metadata": {},
   "outputs": [
    {
     "name": "stdout",
     "output_type": "stream",
     "text": [
      "(8122, 19)\n"
     ]
    },
    {
     "name": "stderr",
     "output_type": "stream",
     "text": [
      "/home/aurorax/.local/lib/python3.8/site-packages/sklearn/neural_network/_multilayer_perceptron.py:1599: DataConversionWarning: A column-vector y was passed when a 1d array was expected. Please change the shape of y to (n_samples, ), for example using ravel().\n",
      "  y = column_or_1d(y, warn=True)\n"
     ]
    },
    {
     "name": "stdout",
     "output_type": "stream",
     "text": [
      "MLPRegressor()\n",
      "Test RMSE: 2.289\n",
      "Test CVRMSE: 58.025\n",
      "Test R squared: 0.767\n"
     ]
    }
   ],
   "source": [
    "np.random.seed(1234)\n",
    "res_time = '60T'\n",
    "edificio = 'C'\n",
    "data = pd.read_csv('data-model-consumo' + edificio + '-' + res_time + '.csv', sep=\";\", index_col=0)\n",
    "#data = data.drop(columns=['V5_0', 'Hora_3'])\n",
    "print(data.shape)\n",
    "data['lagcons'] = data['dif_cons'].shift(1)\n",
    "data.head(3)\n",
    "data = data.iloc[1: , :] # delete first row\n",
    "data.head(3)\n",
    "df = data\n",
    "df\n",
    "X = df.drop(['dif_cons'],axis=1)\n",
    "y = df['dif_cons']\n",
    "X_train, X_test, y_train, y_test = train_test_split(X, y, test_size=0.30)\n",
    "\n",
    "scaler_x = StandardScaler()\n",
    "X_train = scaler_x.fit_transform(X_train)\n",
    "X_test = scaler_x.transform(X_test)\n",
    "scaler_y = StandardScaler()\n",
    "y_train = scaler_y.fit_transform(y_train.values.reshape(-1, 1))\n",
    "y_test = scaler_y.fit_transform(y_test.values.reshape(-1, 1))\n",
    "\n",
    "model = model = MLPRegressor()\n",
    "model.fit(X_train, y_train)\n",
    "print(model)\n",
    "test_y  = y_test\n",
    "prediction = model.predict(X_test)\n",
    "prediction = scaler_y.inverse_transform(prediction.reshape(-1, 1))\n",
    "test_y = scaler_y.inverse_transform(test_y.reshape(-1, 1))\n",
    "rmse = np.sqrt(mean_squared_error(test_y,prediction))\n",
    "cvrmse = rmse/np.mean(test_y)*100\n",
    "r2 = r2_score(test_y, prediction)\n",
    "print('Test RMSE: %.3f' % rmse)\n",
    "print('Test CVRMSE: %.3f' % cvrmse)\n",
    "print('Test R squared: %.3f' % r2)"
   ]
  },
  {
   "cell_type": "code",
   "execution_count": 25,
   "metadata": {},
   "outputs": [
    {
     "data": {
      "text/html": [
       "<div>\n",
       "<style scoped>\n",
       "    .dataframe tbody tr th:only-of-type {\n",
       "        vertical-align: middle;\n",
       "    }\n",
       "\n",
       "    .dataframe tbody tr th {\n",
       "        vertical-align: top;\n",
       "    }\n",
       "\n",
       "    .dataframe thead th {\n",
       "        text-align: right;\n",
       "    }\n",
       "</style>\n",
       "<table border=\"1\" class=\"dataframe\">\n",
       "  <thead>\n",
       "    <tr style=\"text-align: right;\">\n",
       "      <th></th>\n",
       "      <th>dif_cons</th>\n",
       "      <th>V4</th>\n",
       "      <th>Hora_1</th>\n",
       "      <th>Hora_2</th>\n",
       "      <th>Hora_3</th>\n",
       "    </tr>\n",
       "  </thead>\n",
       "  <tbody>\n",
       "    <tr>\n",
       "      <th>count</th>\n",
       "      <td>8423.000000</td>\n",
       "      <td>8423.000000</td>\n",
       "      <td>8423.000000</td>\n",
       "      <td>8423.000000</td>\n",
       "      <td>8423.000000</td>\n",
       "    </tr>\n",
       "    <tr>\n",
       "      <th>mean</th>\n",
       "      <td>4.890831</td>\n",
       "      <td>6.701175</td>\n",
       "      <td>0.333135</td>\n",
       "      <td>0.333373</td>\n",
       "      <td>0.333492</td>\n",
       "    </tr>\n",
       "    <tr>\n",
       "      <th>std</th>\n",
       "      <td>2.990896</td>\n",
       "      <td>3.425789</td>\n",
       "      <td>0.471362</td>\n",
       "      <td>0.471446</td>\n",
       "      <td>0.471488</td>\n",
       "    </tr>\n",
       "    <tr>\n",
       "      <th>min</th>\n",
       "      <td>0.200000</td>\n",
       "      <td>0.000000</td>\n",
       "      <td>0.000000</td>\n",
       "      <td>0.000000</td>\n",
       "      <td>0.000000</td>\n",
       "    </tr>\n",
       "    <tr>\n",
       "      <th>25%</th>\n",
       "      <td>2.580000</td>\n",
       "      <td>4.000000</td>\n",
       "      <td>0.000000</td>\n",
       "      <td>0.000000</td>\n",
       "      <td>0.000000</td>\n",
       "    </tr>\n",
       "    <tr>\n",
       "      <th>50%</th>\n",
       "      <td>4.310000</td>\n",
       "      <td>8.000000</td>\n",
       "      <td>0.000000</td>\n",
       "      <td>0.000000</td>\n",
       "      <td>0.000000</td>\n",
       "    </tr>\n",
       "    <tr>\n",
       "      <th>75%</th>\n",
       "      <td>6.660000</td>\n",
       "      <td>9.000000</td>\n",
       "      <td>1.000000</td>\n",
       "      <td>1.000000</td>\n",
       "      <td>1.000000</td>\n",
       "    </tr>\n",
       "    <tr>\n",
       "      <th>max</th>\n",
       "      <td>24.910000</td>\n",
       "      <td>18.000000</td>\n",
       "      <td>1.000000</td>\n",
       "      <td>1.000000</td>\n",
       "      <td>1.000000</td>\n",
       "    </tr>\n",
       "  </tbody>\n",
       "</table>\n",
       "</div>"
      ],
      "text/plain": [
       "          dif_cons           V4       Hora_1       Hora_2       Hora_3\n",
       "count  8423.000000  8423.000000  8423.000000  8423.000000  8423.000000\n",
       "mean      4.890831     6.701175     0.333135     0.333373     0.333492\n",
       "std       2.990896     3.425789     0.471362     0.471446     0.471488\n",
       "min       0.200000     0.000000     0.000000     0.000000     0.000000\n",
       "25%       2.580000     4.000000     0.000000     0.000000     0.000000\n",
       "50%       4.310000     8.000000     0.000000     0.000000     0.000000\n",
       "75%       6.660000     9.000000     1.000000     1.000000     1.000000\n",
       "max      24.910000    18.000000     1.000000     1.000000     1.000000"
      ]
     },
     "execution_count": 25,
     "metadata": {},
     "output_type": "execute_result"
    }
   ],
   "source": [
    "data.describe()"
   ]
  },
  {
   "cell_type": "code",
   "execution_count": 26,
   "metadata": {},
   "outputs": [
    {
     "data": {
      "text/html": [
       "<div>\n",
       "<style scoped>\n",
       "    .dataframe tbody tr th:only-of-type {\n",
       "        vertical-align: middle;\n",
       "    }\n",
       "\n",
       "    .dataframe tbody tr th {\n",
       "        vertical-align: top;\n",
       "    }\n",
       "\n",
       "    .dataframe thead th {\n",
       "        text-align: right;\n",
       "    }\n",
       "</style>\n",
       "<table border=\"1\" class=\"dataframe\">\n",
       "  <thead>\n",
       "    <tr style=\"text-align: right;\">\n",
       "      <th></th>\n",
       "      <th>dif_cons</th>\n",
       "      <th>V4</th>\n",
       "      <th>Hora_1</th>\n",
       "      <th>Hora_2</th>\n",
       "      <th>Hora_3</th>\n",
       "    </tr>\n",
       "    <tr>\n",
       "      <th>Fecha</th>\n",
       "      <th></th>\n",
       "      <th></th>\n",
       "      <th></th>\n",
       "      <th></th>\n",
       "      <th></th>\n",
       "    </tr>\n",
       "  </thead>\n",
       "  <tbody>\n",
       "    <tr>\n",
       "      <th>2021-01-01 00:00:00+00:00</th>\n",
       "      <td>1.34</td>\n",
       "      <td>1.0</td>\n",
       "      <td>0</td>\n",
       "      <td>0</td>\n",
       "      <td>1</td>\n",
       "    </tr>\n",
       "    <tr>\n",
       "      <th>2021-01-01 01:00:00+00:00</th>\n",
       "      <td>1.31</td>\n",
       "      <td>1.0</td>\n",
       "      <td>0</td>\n",
       "      <td>0</td>\n",
       "      <td>1</td>\n",
       "    </tr>\n",
       "    <tr>\n",
       "      <th>2021-01-01 02:00:00+00:00</th>\n",
       "      <td>1.30</td>\n",
       "      <td>1.0</td>\n",
       "      <td>0</td>\n",
       "      <td>0</td>\n",
       "      <td>1</td>\n",
       "    </tr>\n",
       "    <tr>\n",
       "      <th>2021-01-01 03:00:00+00:00</th>\n",
       "      <td>1.31</td>\n",
       "      <td>1.0</td>\n",
       "      <td>0</td>\n",
       "      <td>0</td>\n",
       "      <td>1</td>\n",
       "    </tr>\n",
       "    <tr>\n",
       "      <th>2021-01-01 04:00:00+00:00</th>\n",
       "      <td>1.31</td>\n",
       "      <td>1.0</td>\n",
       "      <td>0</td>\n",
       "      <td>0</td>\n",
       "      <td>1</td>\n",
       "    </tr>\n",
       "    <tr>\n",
       "      <th>...</th>\n",
       "      <td>...</td>\n",
       "      <td>...</td>\n",
       "      <td>...</td>\n",
       "      <td>...</td>\n",
       "      <td>...</td>\n",
       "    </tr>\n",
       "    <tr>\n",
       "      <th>2021-12-17 20:00:00+00:00</th>\n",
       "      <td>1.38</td>\n",
       "      <td>6.0</td>\n",
       "      <td>0</td>\n",
       "      <td>1</td>\n",
       "      <td>0</td>\n",
       "    </tr>\n",
       "    <tr>\n",
       "      <th>2021-12-17 21:00:00+00:00</th>\n",
       "      <td>1.22</td>\n",
       "      <td>6.0</td>\n",
       "      <td>0</td>\n",
       "      <td>1</td>\n",
       "      <td>0</td>\n",
       "    </tr>\n",
       "    <tr>\n",
       "      <th>2021-12-17 22:00:00+00:00</th>\n",
       "      <td>1.59</td>\n",
       "      <td>6.0</td>\n",
       "      <td>0</td>\n",
       "      <td>0</td>\n",
       "      <td>1</td>\n",
       "    </tr>\n",
       "    <tr>\n",
       "      <th>2021-12-17 23:00:00+00:00</th>\n",
       "      <td>1.12</td>\n",
       "      <td>6.0</td>\n",
       "      <td>0</td>\n",
       "      <td>0</td>\n",
       "      <td>1</td>\n",
       "    </tr>\n",
       "    <tr>\n",
       "      <th>2021-12-18 00:00:00+00:00</th>\n",
       "      <td>1.52</td>\n",
       "      <td>6.0</td>\n",
       "      <td>0</td>\n",
       "      <td>0</td>\n",
       "      <td>1</td>\n",
       "    </tr>\n",
       "  </tbody>\n",
       "</table>\n",
       "<p>8423 rows × 5 columns</p>\n",
       "</div>"
      ],
      "text/plain": [
       "                           dif_cons   V4  Hora_1  Hora_2  Hora_3\n",
       "Fecha                                                           \n",
       "2021-01-01 00:00:00+00:00      1.34  1.0       0       0       1\n",
       "2021-01-01 01:00:00+00:00      1.31  1.0       0       0       1\n",
       "2021-01-01 02:00:00+00:00      1.30  1.0       0       0       1\n",
       "2021-01-01 03:00:00+00:00      1.31  1.0       0       0       1\n",
       "2021-01-01 04:00:00+00:00      1.31  1.0       0       0       1\n",
       "...                             ...  ...     ...     ...     ...\n",
       "2021-12-17 20:00:00+00:00      1.38  6.0       0       1       0\n",
       "2021-12-17 21:00:00+00:00      1.22  6.0       0       1       0\n",
       "2021-12-17 22:00:00+00:00      1.59  6.0       0       0       1\n",
       "2021-12-17 23:00:00+00:00      1.12  6.0       0       0       1\n",
       "2021-12-18 00:00:00+00:00      1.52  6.0       0       0       1\n",
       "\n",
       "[8423 rows x 5 columns]"
      ]
     },
     "execution_count": 26,
     "metadata": {},
     "output_type": "execute_result"
    }
   ],
   "source": [
    "df = data\n",
    "df"
   ]
  },
  {
   "cell_type": "code",
   "execution_count": 28,
   "metadata": {},
   "outputs": [],
   "source": [
    "X = df[['V4', 'Hora_1', 'Hora_2', 'Hora_3']]\n",
    "y = df['dif_cons']\n",
    "X_train, X_test, y_train, y_test = train_test_split(X, y, test_size=0.30)"
   ]
  },
  {
   "cell_type": "code",
   "execution_count": 29,
   "metadata": {},
   "outputs": [
    {
     "name": "stdout",
     "output_type": "stream",
     "text": [
      "MLPRegressor()\n"
     ]
    }
   ],
   "source": [
    "from sklearn.neural_network import MLPRegressor\n",
    "model = model = MLPRegressor()\n",
    "model.fit(X_train, y_train)\n",
    "print(model)"
   ]
  },
  {
   "cell_type": "code",
   "execution_count": 31,
   "metadata": {},
   "outputs": [],
   "source": [
    "test_y  = y_test\n",
    "prediction = model.predict(X_test)"
   ]
  },
  {
   "cell_type": "code",
   "execution_count": 32,
   "metadata": {},
   "outputs": [
    {
     "name": "stdout",
     "output_type": "stream",
     "text": [
      "Test RMSE: 1.927\n",
      "Test CVRMSE: 39.425\n",
      "Test R squared: 0.599\n"
     ]
    }
   ],
   "source": [
    "rmse = np.sqrt(mean_squared_error(test_y,prediction))\n",
    "cvrmse = rmse/np.mean(test_y)*100\n",
    "r2 = r2_score(test_y, prediction)\n",
    "print('Test RMSE: %.3f' % rmse)\n",
    "print('Test CVRMSE: %.3f' % cvrmse)\n",
    "print('Test R squared: %.3f' % r2)"
   ]
  },
  {
   "cell_type": "code",
   "execution_count": 15,
   "metadata": {},
   "outputs": [],
   "source": [
    "def split_dataset(data, per_train):\n",
    "    train = data[0:int(np.ceil(df.shape[0]*per_train))]\n",
    "    test = data[int(np.ceil(df.shape[0]*per_train)): int(np.ceil(df.shape[0]*(per_train+per_test)))]\n",
    "    val = data[int(np.ceil(df.shape[0]*(per_train+per_test))):]\n",
    "    \n",
    "    train = array(train)\n",
    "    test = array(test)\n",
    "    val = array(val)\n",
    "    return train, test, val"
   ]
  },
  {
   "cell_type": "code",
   "execution_count": 9,
   "metadata": {},
   "outputs": [],
   "source": [
    "def split_dataset(data, per_train):\n",
    "    train = data[0:int(np.ceil(df.shape[0]*per_train))]\n",
    "    val = data[int(np.ceil(df.shape[0]*per_train)): int(np.ceil(df.shape[0]*(per_train+per_test)))]\n",
    "    test = data[int(np.ceil(df.shape[0]*(per_train+per_test))):]\n",
    "    #Escalado en train y test por separado. Si no se hace aquí ya no se puede porque todo lo que sigue es con arrays 3D\n",
    "    scaler_y = StandardScaler()\n",
    "    train_y = scaler_y.fit_transform(train[:,0].reshape(-1, 1))\n",
    "    val_y = scaler_y.fit_transform(val[:,0].reshape(-1, 1))\n",
    "    test_y = scaler_y.transform(test[:,0].reshape(-1, 1))\n",
    "    scaler_x = StandardScaler()\n",
    "    train_x = scaler_x.fit_transform(train[:,1:]) \n",
    "    val_x = scaler_x.fit_transform(val[:,1:]) \n",
    "    test_x = scaler_x.transform(test[:,1:])\n",
    "    \n",
    "    #Rehacemos los DataFrames con los datos escalados para poder hacer el split\n",
    "    train = pd.concat([pd.DataFrame(train_y),pd.DataFrame(train_x)], axis=1)\n",
    "    test = pd.concat([pd.DataFrame(test_y),pd.DataFrame(test_x)], axis=1)\n",
    "    val = pd.concat([pd.DataFrame(val_y),pd.DataFrame(val_x)], axis=1)\n",
    "\n",
    "    train = array(train)\n",
    "    test = array(test)\n",
    "    val = array(val)\n",
    "    return train, test, val, scaler_x, scaler_y"
   ]
  },
  {
   "cell_type": "code",
   "execution_count": 10,
   "metadata": {},
   "outputs": [
    {
     "name": "stdout",
     "output_type": "stream",
     "text": [
      "shape: [muestras, pasos de tiempo, características]\n",
      "train shape: (5897, 2)\n",
      "val shape: (1263, 2)\n",
      "test shape: (1263, 2)\n"
     ]
    }
   ],
   "source": [
    "# split en train y test\n",
    "per_train = 0.7\n",
    "per_test = 0.15\n",
    "train, test, val, scaler_x, scaler_y = split_dataset(df.values, per_train)\n",
    "print('shape: [muestras, pasos de tiempo, características]')\n",
    "print('train shape:', train.shape)\n",
    "print('val shape:', val.shape)\n",
    "print('test shape:', test.shape)"
   ]
  },
  {
   "cell_type": "code",
   "execution_count": 11,
   "metadata": {},
   "outputs": [
    {
     "data": {
      "text/plain": [
       "array([[-1.12598766, -1.35657131],\n",
       "       [-1.13569959, -1.35657131],\n",
       "       [-1.1389369 , -1.35657131],\n",
       "       ...,\n",
       "       [ 0.89409373,  0.31119124],\n",
       "       [ 0.35670028,  0.31119124],\n",
       "       [ 0.76783864,  0.31119124]])"
      ]
     },
     "execution_count": 11,
     "metadata": {},
     "output_type": "execute_result"
    }
   ],
   "source": [
    "train"
   ]
  },
  {
   "cell_type": "code",
   "execution_count": 12,
   "metadata": {},
   "outputs": [
    {
     "data": {
      "text/plain": [
       "array([[-1.24651855, -0.25586264],\n",
       "       [-1.34563164, -0.25586264],\n",
       "       [-0.98972553, -0.25586264],\n",
       "       ...,\n",
       "       [-2.48543222, -2.30546845],\n",
       "       [-2.69717383, -2.30546845],\n",
       "       [-2.51696821, -2.30546845]])"
      ]
     },
     "execution_count": 12,
     "metadata": {},
     "output_type": "execute_result"
    }
   ],
   "source": [
    "test"
   ]
  },
  {
   "cell_type": "code",
   "execution_count": 227,
   "metadata": {},
   "outputs": [],
   "source": [
    "def to_supervised(train, n_input, n_out):\n",
    "    # Ponemos los datos en 2D: una entrada para cada muestra y paso de tiempo con las n características\n",
    "    data = train#.reshape((train.shape[0]*train.shape[1], train.shape[2])) \n",
    "    X, y = list(), list()\n",
    "    in_start = 0\n",
    "    # Pasamos por todo el conjunto de datos, de step en step\n",
    "    for _ in range(len(data)):\n",
    "        # Definimos cuando empieza el input, cuando acaba, e igual para el output\n",
    "        # En este caso el output empieza cuando acaba el input\n",
    "        in_end = in_start + n_input\n",
    "        out_end = in_end + n_out\n",
    "        # Iteramos mientras haya ejemplos\n",
    "        if out_end <= len(data):\n",
    "            X.append(data[in_start:in_end, :]) # X son todas las variables en t\n",
    "            y.append(data[in_end:out_end, 0])  # y es la temperatura en t+1 (si n_out=1)\n",
    "        # Pasamos al siguiente instante de tiempo\n",
    "        in_start += 1\n",
    "    X = array(X)\n",
    "    y = array(y)\n",
    "    return X, y"
   ]
  },
  {
   "cell_type": "code",
   "execution_count": 228,
   "metadata": {},
   "outputs": [],
   "source": [
    "n_input = 3\n",
    "n_out = 1"
   ]
  },
  {
   "cell_type": "code",
   "execution_count": 229,
   "metadata": {},
   "outputs": [
    {
     "name": "stdout",
     "output_type": "stream",
     "text": [
      "train_x shape: (5894, 3, 2)\n",
      "train_y shape: (5894, 1)\n",
      "val_x shape: (1260, 3, 2)\n",
      "val_y shape: (1260, 1)\n",
      "test_x shape: (1260, 3, 2)\n",
      "test_y shape: (1260, 1)\n"
     ]
    }
   ],
   "source": [
    "train_x, train_y = to_supervised(train, n_input, n_out)\n",
    "test_x, test_y = to_supervised(test, n_input, n_out)\n",
    "val_x, val_y = to_supervised(val, n_input, n_out)\n",
    "print('train_x shape:' , train_x.shape) \n",
    "print('train_y shape:'  , train_y.shape)   \n",
    "print('val_x shape:' , val_x.shape)  \n",
    "print('val_y shape:' , val_y.shape) \n",
    "print('test_x shape:' , test_x.shape)  \n",
    "print('test_y shape:' , test_y.shape)    "
   ]
  },
  {
   "cell_type": "code",
   "execution_count": 108,
   "metadata": {},
   "outputs": [
    {
     "data": {
      "text/plain": [
       "array([[1.31],\n",
       "       [1.31],\n",
       "       [1.3 ],\n",
       "       ...,\n",
       "       [7.58],\n",
       "       [5.92],\n",
       "       [7.19]])"
      ]
     },
     "execution_count": 108,
     "metadata": {},
     "output_type": "execute_result"
    }
   ],
   "source": [
    "train_y"
   ]
  },
  {
   "cell_type": "code",
   "execution_count": 233,
   "metadata": {},
   "outputs": [
    {
     "name": "stdout",
     "output_type": "stream",
     "text": [
      "n_timesteps: 3\n",
      "n_features: 2\n",
      "n_outputs: 1\n"
     ]
    }
   ],
   "source": [
    "n_timesteps, n_features, n_outputs = train_x.shape[1], train_x.shape[2], train_y.shape[1]\n",
    "print('n_timesteps:' , n_timesteps) \n",
    "print('n_features:'  , n_features)     \n",
    "print('n_outputs:' , n_outputs)   "
   ]
  },
  {
   "cell_type": "code",
   "execution_count": 234,
   "metadata": {
    "collapsed": true
   },
   "outputs": [
    {
     "name": "stdout",
     "output_type": "stream",
     "text": [
      "Epoch 1/50\n",
      "93/93 - 4s - loss: 0.4506 - val_loss: 0.4612 - 4s/epoch - 47ms/step\n",
      "Epoch 2/50\n",
      "93/93 - 1s - loss: 0.2863 - val_loss: 0.4527 - 678ms/epoch - 7ms/step\n",
      "Epoch 3/50\n",
      "93/93 - 1s - loss: 0.2704 - val_loss: 0.4176 - 650ms/epoch - 7ms/step\n",
      "Epoch 4/50\n",
      "93/93 - 1s - loss: 0.2603 - val_loss: 0.4131 - 693ms/epoch - 7ms/step\n",
      "Epoch 5/50\n",
      "93/93 - 1s - loss: 0.2546 - val_loss: 0.4126 - 672ms/epoch - 7ms/step\n",
      "Epoch 6/50\n",
      "93/93 - 1s - loss: 0.2530 - val_loss: 0.4082 - 668ms/epoch - 7ms/step\n",
      "Epoch 7/50\n",
      "93/93 - 1s - loss: 0.2508 - val_loss: 0.4038 - 722ms/epoch - 8ms/step\n",
      "Epoch 8/50\n",
      "93/93 - 1s - loss: 0.2491 - val_loss: 0.4023 - 724ms/epoch - 8ms/step\n",
      "Epoch 9/50\n",
      "93/93 - 1s - loss: 0.2473 - val_loss: 0.4022 - 804ms/epoch - 9ms/step\n",
      "Epoch 10/50\n",
      "93/93 - 1s - loss: 0.2447 - val_loss: 0.3998 - 683ms/epoch - 7ms/step\n",
      "Epoch 11/50\n",
      "93/93 - 1s - loss: 0.2414 - val_loss: 0.4034 - 702ms/epoch - 8ms/step\n",
      "Epoch 12/50\n",
      "93/93 - 1s - loss: 0.2432 - val_loss: 0.4055 - 677ms/epoch - 7ms/step\n",
      "Epoch 13/50\n",
      "93/93 - 1s - loss: 0.2437 - val_loss: 0.4005 - 671ms/epoch - 7ms/step\n",
      "Epoch 14/50\n",
      "93/93 - 1s - loss: 0.2419 - val_loss: 0.3964 - 683ms/epoch - 7ms/step\n",
      "Epoch 15/50\n",
      "93/93 - 1s - loss: 0.2421 - val_loss: 0.3948 - 666ms/epoch - 7ms/step\n",
      "Epoch 16/50\n",
      "93/93 - 1s - loss: 0.2394 - val_loss: 0.3944 - 706ms/epoch - 8ms/step\n",
      "Epoch 17/50\n",
      "93/93 - 1s - loss: 0.2378 - val_loss: 0.3945 - 777ms/epoch - 8ms/step\n",
      "Epoch 18/50\n",
      "93/93 - 1s - loss: 0.2369 - val_loss: 0.4062 - 811ms/epoch - 9ms/step\n",
      "Epoch 19/50\n",
      "93/93 - 1s - loss: 0.2410 - val_loss: 0.4044 - 697ms/epoch - 7ms/step\n",
      "Epoch 20/50\n",
      "93/93 - 1s - loss: 0.2452 - val_loss: 0.4027 - 680ms/epoch - 7ms/step\n",
      "Epoch 21/50\n",
      "93/93 - 1s - loss: 0.2408 - val_loss: 0.3898 - 662ms/epoch - 7ms/step\n",
      "Epoch 22/50\n",
      "93/93 - 1s - loss: 0.2356 - val_loss: 0.3921 - 658ms/epoch - 7ms/step\n",
      "Epoch 23/50\n",
      "93/93 - 1s - loss: 0.2344 - val_loss: 0.4037 - 635ms/epoch - 7ms/step\n",
      "Epoch 24/50\n",
      "93/93 - 1s - loss: 0.2368 - val_loss: 0.4007 - 689ms/epoch - 7ms/step\n",
      "Epoch 25/50\n",
      "93/93 - 1s - loss: 0.2417 - val_loss: 0.4019 - 703ms/epoch - 8ms/step\n",
      "Epoch 26/50\n",
      "93/93 - 1s - loss: 0.2378 - val_loss: 0.3890 - 673ms/epoch - 7ms/step\n",
      "Epoch 27/50\n",
      "93/93 - 1s - loss: 0.2337 - val_loss: 0.4037 - 658ms/epoch - 7ms/step\n",
      "Epoch 28/50\n",
      "93/93 - 1s - loss: 0.2356 - val_loss: 0.4134 - 700ms/epoch - 8ms/step\n",
      "Epoch 29/50\n",
      "93/93 - 1s - loss: 0.2400 - val_loss: 0.3960 - 643ms/epoch - 7ms/step\n",
      "Epoch 30/50\n",
      "93/93 - 1s - loss: 0.2395 - val_loss: 0.4027 - 776ms/epoch - 8ms/step\n",
      "Epoch 31/50\n",
      "93/93 - 1s - loss: 0.2336 - val_loss: 0.4090 - 798ms/epoch - 9ms/step\n",
      "Epoch 32/50\n",
      "93/93 - 1s - loss: 0.2347 - val_loss: 0.3980 - 717ms/epoch - 8ms/step\n",
      "Epoch 33/50\n",
      "93/93 - 1s - loss: 0.2348 - val_loss: 0.4107 - 678ms/epoch - 7ms/step\n",
      "Epoch 34/50\n",
      "93/93 - 1s - loss: 0.2360 - val_loss: 0.3983 - 715ms/epoch - 8ms/step\n",
      "Epoch 35/50\n",
      "93/93 - 1s - loss: 0.2335 - val_loss: 0.4139 - 662ms/epoch - 7ms/step\n",
      "Epoch 36/50\n",
      "93/93 - 1s - loss: 0.2376 - val_loss: 0.3968 - 725ms/epoch - 8ms/step\n"
     ]
    }
   ],
   "source": [
    "# design network\n",
    "model = Sequential()\n",
    "model.add(LSTM(100, input_shape=(n_timesteps, n_features)))\n",
    "model.add(RepeatVector(n_outputs))\n",
    "model.add(LSTM(100, return_sequences=True))\n",
    "model.add(TimeDistributed(Dense(50)))\n",
    "model.add(TimeDistributed(Dense(1)))\n",
    "model.compile(loss='mae', optimizer='adam')\n",
    "stop_early = keras.callbacks.EarlyStopping(monitor='val_loss', mode='min', patience=10)\n",
    "history = model.fit(train_x, train_y, epochs=50, batch_size=64, validation_data=(val_x, val_y),\n",
    "                    verbose=2, shuffle=False, callbacks=stop_early)"
   ]
  },
  {
   "cell_type": "code",
   "execution_count": 235,
   "metadata": {},
   "outputs": [
    {
     "data": {
      "image/png": "[encoded data removed]",
      "text/plain": [
       "<Figure size 432x288 with 1 Axes>"
      ]
     },
     "metadata": {
      "needs_background": "light"
     },
     "output_type": "display_data"
    }
   ],
   "source": [
    "# plot history\n",
    "plt.plot(history.history['loss'], label='train')\n",
    "plt.plot(history.history['val_loss'], label='test')\n",
    "plt.legend()\n",
    "plt.show()"
   ]
  },
  {
   "cell_type": "code",
   "execution_count": 175,
   "metadata": {},
   "outputs": [],
   "source": [
    "def predict(datos_test_x, datos_test_y, n_input, modelo, steps, features):\n",
    "    test_y = datos_test_y\n",
    "    test_x = datos_test_x\n",
    "    n_timesteps=steps\n",
    "    n_features=features\n",
    "    #Creamos una lista vacía para las predicciones\n",
    "    predictions = list()\n",
    "    #Ponemos los índices i y j a 0\n",
    "    i=0\n",
    "    j=0\n",
    "    #Indice para hacer predicciones en un horizonte de tiempo concreto\n",
    "    #Saltamos n filas cada m. Ej: tenemos n_obs_despues=12 pero queremos predecir solo la hora siguiente así\n",
    "    #que predecimos 6 filas, saltamos otras 6 (que serían la 2a hora) y repetimos\n",
    "    #n = n_obs_despues - n_predict \n",
    "    #m = n_predict   #Salto de n cada m\n",
    "    #test_index = [j for i in range(0,len(test_x), n+m) for j in range(i, m+i) if j<len(test_x)]\n",
    "    for i in range(len(test_x)):\n",
    "        data = test_x[i,:,:]\n",
    "        # Cogemos como input los valores del instante de tiempo anterior al que vamos a predecir\n",
    "        # Recordar que el x lleva un lag de 1 respecto a la y, por eso es el elemento i y no el i-1\n",
    "        # Le damos la forma que el modelo necesita para predecir\n",
    "        input_x = data.reshape((1, n_timesteps, n_features))\n",
    "        \n",
    "        # Prediccion para cada paso de tiempo\n",
    "        yhat = model.predict(input_x, verbose=0)\n",
    "        yhat_sequence = yhat[0] \n",
    "\n",
    "        # Guardamos las predicciones\n",
    "        predictions.append(yhat_sequence)\n",
    "        \n",
    "        # Reescribimos el valor de la temperatura del siguiente paso con la prediccion\n",
    "        # Añadimos una condición más para que en el último paso de cada evento no actualice, ya\n",
    "        # que reescribiría datos de otro caso\n",
    "        if i < len(test_x): #and (j not in range(n_predict-1,len(test_x), n_obs_despues)):\n",
    "            try: test_x[i+1,n_input,0] = yhat[0]\n",
    "            except IndexError: continue\n",
    "            #La excepción es porque al llegar al final no hay un i+1 que actualizar y salta un IndexError\n",
    "        else: break\n",
    "        #j+=1\n",
    "        \n",
    "    predictions = array(predictions)\n",
    "    #Seleccionamos solo los ejemplos del conjunto de test que vamos a predecir\n",
    "    #test_y = test_y[test_index,:]\n",
    "    return predictions, test_y"
   ]
  },
  {
   "cell_type": "code",
   "execution_count": 236,
   "metadata": {},
   "outputs": [],
   "source": [
    "#n_predict = 6 #Timesteps a predecir\n",
    "prediction, test_y = predict(test_x, test_y, n_input, model, n_timesteps, n_features)"
   ]
  },
  {
   "cell_type": "code",
   "execution_count": 237,
   "metadata": {},
   "outputs": [],
   "source": [
    "prediction = prediction.reshape(prediction.shape[0],prediction.shape[1])"
   ]
  },
  {
   "cell_type": "code",
   "execution_count": 238,
   "metadata": {},
   "outputs": [],
   "source": [
    "prediction = scaler_y.inverse_transform(prediction)\n",
    "test_y = scaler_y.inverse_transform(test_y)"
   ]
  },
  {
   "cell_type": "code",
   "execution_count": 239,
   "metadata": {},
   "outputs": [
    {
     "name": "stdout",
     "output_type": "stream",
     "text": [
      "Test RMSE: 1.792\n",
      "Test CVRMSE: 59.519\n",
      "Test R squared: -0.874\n"
     ]
    }
   ],
   "source": [
    "rmse = np.sqrt(mean_squared_error(test_y,prediction))\n",
    "cvrmse = rmse/np.mean(test_y)*100\n",
    "r2 = r2_score(test_y, prediction)\n",
    "print('Test RMSE: %.3f' % rmse)\n",
    "print('Test CVRMSE: %.3f' % cvrmse)\n",
    "print('Test R squared: %.3f' % r2)"
   ]
  },
  {
   "cell_type": "code",
   "execution_count": 240,
   "metadata": {},
   "outputs": [
    {
     "data": {
      "image/png": "[encoded data removed]",
      "text/plain": [
       "<Figure size 720x432 with 2 Axes>"
      ]
     },
     "metadata": {
      "needs_background": "light"
     },
     "output_type": "display_data"
    }
   ],
   "source": [
    "#EDIFICIO A\n",
    "fig, axs = plt.subplots(figsize=(10,6), nrows = 2, ncols =1, sharex =False)\n",
    "#fig = plt.figure(figsize =(15, 5))\n",
    "axs[0].plot(test_y, label='real',alpha=0.5)\n",
    "axs[0].plot(prediction, label='predict', alpha=0.5)\n",
    "axs[0].grid(linestyle = \"--\", alpha=0.6)\n",
    "axs[0].legend()\n",
    "#Media móvil por horas\n",
    "axs[1].plot(pd.DataFrame(test_y).rolling(48).mean(), label='real',alpha=0.5)\n",
    "axs[1].plot(pd.DataFrame(prediction).rolling(48).mean(), label='predict', alpha=0.5)\n",
    "axs[1].grid(linestyle = \"--\", alpha=0.6)\n",
    "axs[1].legend()\n",
    "fig.tight_layout()\n",
    "plt.show()"
   ]
  },
  {
   "cell_type": "markdown",
   "metadata": {},
   "source": []
  },
  {
   "cell_type": "code",
   "execution_count": 220,
   "metadata": {},
   "outputs": [
    {
     "data": {
      "image/png": "[encoded data removed]",
      "text/plain": [
       "<Figure size 720x432 with 2 Axes>"
      ]
     },
     "metadata": {
      "needs_background": "light"
     },
     "output_type": "display_data"
    }
   ],
   "source": [
    "#EDIFICIO B\n",
    "fig, axs = plt.subplots(figsize=(10,6), nrows = 2, ncols =1, sharex =False)\n",
    "#fig = plt.figure(figsize =(15, 5))\n",
    "axs[0].plot(test_y, label='real',alpha=0.5)\n",
    "axs[0].plot(prediction, label='predict', alpha=0.5)\n",
    "axs[0].grid(linestyle = \"--\", alpha=0.6)\n",
    "axs[0].legend()\n",
    "#Media móvil por horas\n",
    "axs[1].plot(pd.DataFrame(test_y).rolling(48).mean(), label='real',alpha=0.5)\n",
    "axs[1].plot(pd.DataFrame(prediction).rolling(48).mean(), label='predict', alpha=0.5)\n",
    "axs[1].grid(linestyle = \"--\", alpha=0.6)\n",
    "axs[1].legend()\n",
    "fig.tight_layout()\n",
    "plt.show()"
   ]
  },
  {
   "cell_type": "markdown",
   "metadata": {},
   "source": [
    "Test RMSE: 0.683\n",
    "Test CVRMSE: 22.899\n",
    "Test R squared: 0.858"
   ]
  },
  {
   "cell_type": "code",
   "execution_count": null,
   "metadata": {},
   "outputs": [],
   "source": []
  }
 ],
 "metadata": {
  "kernelspec": {
   "display_name": "Python 3",
   "language": "python",
   "name": "python3"
  },
  "language_info": {
   "codemirror_mode": {
    "name": "ipython",
    "version": 3
   },
   "file_extension": ".py",
   "mimetype": "text/x-python",
   "name": "python",
   "nbconvert_exporter": "python",
   "pygments_lexer": "ipython3",
   "version": "3.8.3"
  }
 },
 "nbformat": 4,
 "nbformat_minor": 4
}
